{
 "cells": [
  {
   "cell_type": "markdown",
   "id": "04626d6b",
   "metadata": {},
   "source": [
    "# Frequency spectrum of sound using PyAudio, NumPy, and Matplotlib\n",
    "\n",
    "[Link](https://yjlv.blogspot.com/2012/11/frequency-spectrum-of-sound-using.html)\n",
    "\n",
    "\n",
    "-----"
   ]
  },
  {
   "cell_type": "code",
   "execution_count": 3,
   "id": "6148a05f",
   "metadata": {
    "scrolled": true
   },
   "outputs": [
    {
     "name": "stdout",
     "output_type": "stream",
     "text": [
      "Requirement already satisfied: pyaudio in c:\\users\\käyttäjä\\appdata\\local\\packages\\pythonsoftwarefoundation.python.3.9_qbz5n2kfra8p0\\localcache\\local-packages\\python39\\site-packages (0.2.13)\n"
     ]
    },
    {
     "name": "stderr",
     "output_type": "stream",
     "text": [
      "\n",
      "[notice] A new release of pip is available: 23.1.2 -> 23.2.1\n",
      "[notice] To update, run: C:\\Users\\Käyttäjä\\AppData\\Local\\Microsoft\\WindowsApps\\PythonSoftwareFoundation.Python.3.9_qbz5n2kfra8p0\\python.exe -m pip install --upgrade pip\n"
     ]
    }
   ],
   "source": [
    "!pip install pyaudio"
   ]
  },
  {
   "cell_type": "code",
   "execution_count": 16,
   "id": "a7e0e8ce",
   "metadata": {},
   "outputs": [],
   "source": [
    "import pyaudio\n",
    "import numpy as np\n",
    "import matplotlib.pyplot as plt\n",
    "import matplotlib.animation as animation"
   ]
  },
  {
   "cell_type": "code",
   "execution_count": 7,
   "id": "210d4426",
   "metadata": {},
   "outputs": [],
   "source": [
    "SAVE = 0.0\n",
    "TITLE = ''\n",
    "FPS = 25.0\n",
    "\n",
    "nFFT = 512\n",
    "BUF_SIZE = 4 * nFFT\n",
    "FORMAT = pyaudio.paInt16\n",
    "CHANNELS = 2\n",
    "RATE = 44100"
   ]
  },
  {
   "cell_type": "code",
   "execution_count": 21,
   "id": "e7daca91",
   "metadata": {},
   "outputs": [
    {
     "name": "stderr",
     "output_type": "stream",
     "text": [
      "C:\\Users\\KYTTJ~1\\AppData\\Local\\Temp/ipykernel_22172/3281047740.py:5: MatplotlibDeprecationWarning: The 'linthreshy' parameter of __init__() has been renamed 'linthresh' since Matplotlib 3.3; support for the old name will be dropped two minor releases later.\n",
      "  ax.set_yscale('symlog', linthreshy=nFFT**0.5)\n"
     ]
    },
    {
     "data": {
      "image/png": "[encoded data removed]",
      "text/plain": [
       "<Figure size 432x288 with 1 Axes>"
      ]
     },
     "metadata": {
      "needs_background": "light"
     },
     "output_type": "display_data"
    }
   ],
   "source": [
    "fig = plt.figure()\n",
    "x_f = 1.0 * np.arange(-nFFT / 2 + 1, nFFT / 2) / nFFT * RATE\n",
    "ax = fig.add_subplot(111, title=TITLE, xlim=(x_f[0], x_f[-1]),\n",
    "                   ylim=(0, 2 * np.pi * nFFT**2 / RATE))\n",
    "ax.set_yscale('symlog', linthreshy=nFFT**0.5)\n",
    "\n",
    "line, = ax.plot(x_f, np.zeros(nFFT - 1))\n"
   ]
  },
  {
   "cell_type": "code",
   "execution_count": 22,
   "id": "3822e1d1",
   "metadata": {},
   "outputs": [],
   "source": [
    "def change_xlabel(evt):\n",
    "  labels = [label.get_text().replace(u'\\u2212', '')\n",
    "            for label in ax.get_xticklabels()]\n",
    "  ax.set_xticklabels(labels)\n",
    "  fig.canvas.mpl_disconnect(drawid)\n",
    "drawid = fig.canvas.mpl_connect('draw_event', change_xlabel)"
   ]
  },
  {
   "cell_type": "code",
   "execution_count": 23,
   "id": "24e73970",
   "metadata": {},
   "outputs": [],
   "source": [
    "def animate(i, line, wf, MAX_y):\n",
    "\n",
    "  N = (int((i + 1) * RATE / FPS) - wf.tell()) / nFFT\n",
    "  if not N:\n",
    "    return line,\n",
    "  N *= nFFT\n",
    "  data = wf.readframes(N)\n",
    "  print('{:5.1f}% - V: {:5,d} - A: {:10,d} / {:10,d}'.format(\n",
    "    100.0 * wf.tell() / wf.getnframes(), i, wf.tell(), wf.getnframes()\n",
    "  ))\n",
    "\n",
    "  # Unpack data, LRLRLR...\n",
    "  y = np.array(struct.unpack(\"%dh\" % (len(data) / SAMPLE_SIZE), data)) / MAX_y\n",
    "  y_L = y[::2]\n",
    "  y_R = y[1::2]\n",
    "\n",
    "  Y_L = np.fft.fft(y_L, nFFT)\n",
    "  Y_R = np.fft.fft(y_R, nFFT)\n",
    "\n",
    "  # Sewing FFT of two channels together, DC part uses right channel's\n",
    "  Y = abs(np.hstack((Y_L[-nFFT / 2:-1], Y_R[:nFFT / 2])))\n",
    "\n",
    "  line.set_ydata(Y)\n",
    "  return line,"
   ]
  },
  {
   "cell_type": "code",
   "execution_count": 25,
   "id": "2e48afd0",
   "metadata": {},
   "outputs": [],
   "source": [
    "def init(line):\n",
    "\n",
    "  # This data is a clear frame for animation\n",
    "  line.set_ydata(np.zeros(nFFT - 1))\n",
    "  return line,\n"
   ]
  },
  {
   "cell_type": "code",
   "execution_count": 26,
   "id": "748eb9db",
   "metadata": {},
   "outputs": [],
   "source": [
    "p = pyaudio.PyAudio()\n",
    "MAX_y = 2.0**(p.get_sample_size(FORMAT) * 8 - 1)\n",
    "\n",
    "frames = None\n",
    "wf = None\n",
    "if SAVE:\n",
    "  frames = int(FPS * SAVE)\n",
    "  wf = wave.open('temp.wav', 'wb')\n",
    "  wf.setnchannels(CHANNELS)\n",
    "  wf.setsampwidth(p.get_sample_size(FORMAT))\n",
    "  wf.setframerate(RATE)\n",
    "\n",
    "stream = p.open(format=FORMAT,\n",
    "                channels=CHANNELS,\n",
    "                rate=RATE,\n",
    "                input=True,\n",
    "                frames_per_buffer=BUF_SIZE)\n",
    "\n",
    "ani = animation.FuncAnimation(fig, animate, frames,\n",
    "    init_func=lambda: init(line), fargs=(line, stream, wf, MAX_y),\n",
    "    interval=1000.0/FPS, blit=True)"
   ]
  },
  {
   "cell_type": "code",
   "execution_count": 27,
   "id": "4556ac06",
   "metadata": {},
   "outputs": [],
   "source": [
    "plt.show()\n",
    "\n",
    "stream.stop_stream()\n",
    "stream.close()\n",
    "p.terminate()\n",
    "\n",
    "if SAVE:\n",
    "  wf.close()"
   ]
  }
 ],
 "metadata": {
  "kernelspec": {
   "display_name": "Python 3 (ipykernel)",
   "language": "python",
   "name": "python3"
  },
  "language_info": {
   "codemirror_mode": {
    "name": "ipython",
    "version": 3
   },
   "file_extension": ".py",
   "mimetype": "text/x-python",
   "name": "python",
   "nbconvert_exporter": "python",
   "pygments_lexer": "ipython3",
   "version": "3.9.13"
  }
 },
 "nbformat": 4,
 "nbformat_minor": 5
}
