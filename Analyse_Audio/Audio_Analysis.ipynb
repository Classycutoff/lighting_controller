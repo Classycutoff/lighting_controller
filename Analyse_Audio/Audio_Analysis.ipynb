{
 "cells": [
  {
   "cell_type": "code",
   "execution_count": 1,
   "id": "4cc30473",
   "metadata": {
    "scrolled": true
   },
   "outputs": [
    {
     "name": "stdout",
     "output_type": "stream",
     "text": [
      "Requirement already satisfied: pyaudio in c:\\users\\käyttäjä\\appdata\\local\\packages\\pythonsoftwarefoundation.python.3.9_qbz5n2kfra8p0\\localcache\\local-packages\\python39\\site-packages (0.2.13)\n"
     ]
    }
   ],
   "source": [
    "!pip install pyaudio"
   ]
  },
  {
   "cell_type": "code",
   "execution_count": null,
   "id": "4036253d",
   "metadata": {},
   "outputs": [],
   "source": [
    "# https://www.youtube.com/watch?v=AShHJdSIxkY"
   ]
  },
  {
   "cell_type": "code",
   "execution_count": 1,
   "id": "99a78567",
   "metadata": {},
   "outputs": [],
   "source": [
    "import pyaudio\n",
    "import struct\n",
    "import numpy as np\n",
    "import matplotlib.pyplot as plt\n",
    "\n",
    "%matplotlib tk\n",
    "\n",
    "CHUNK = 1024 * 2\n",
    "FORMAT = pyaudio.paInt16\n",
    "CHANNELS = 1\n",
    "RATE = 44100\n"
   ]
  },
  {
   "cell_type": "code",
   "execution_count": 10,
   "id": "a602b856",
   "metadata": {},
   "outputs": [],
   "source": [
    "p = pyaudio.PyAudio()\n",
    "\n",
    "stream = p.open(\n",
    "    format=FORMAT,\n",
    "    channels=CHANNELS,\n",
    "    rate=RATE,\n",
    "    input=True,\n",
    "    output=True,\n",
    "    frames_per_buffer=CHUNK\n",
    ")\n",
    "\n",
    "data = stream.read(CHUNK)\n",
    "data_int = np.array(struct.unpack(str(2 * CHUNK) + 'B', data), dtype='b')[::2] + 128\n",
    "\n",
    "fig, ax = plt.subplots()\n",
    "\n",
    "ax.plot(data_int, '-')\n",
    "plt.show()"
   ]
  },
  {
   "cell_type": "code",
   "execution_count": 15,
   "id": "838bbd58",
   "metadata": {
    "scrolled": false
   },
   "outputs": [
    {
     "name": "stdout",
     "output_type": "stream",
     "text": [
      "ERROR! Session/line number was not unique in database. History logging moved to new session 167\n"
     ]
    },
    {
     "ename": "TclError",
     "evalue": "",
     "output_type": "error",
     "traceback": [
      "\u001b[1;31m---------------------------------------------------------------------------\u001b[0m",
      "\u001b[1;31mTclError\u001b[0m                                  Traceback (most recent call last)",
      "\u001b[1;32m~\\AppData\\Local\\Packages\\PythonSoftwareFoundation.Python.3.9_qbz5n2kfra8p0\\LocalCache\\local-packages\\Python39\\site-packages\\matplotlib\\backends\\_backend_tk.py\u001b[0m in \u001b[0;36mblit\u001b[1;34m(photoimage, aggimage, offsets, bbox)\u001b[0m\n\u001b[0;32m    112\u001b[0m     \u001b[1;32mtry\u001b[0m\u001b[1;33m:\u001b[0m\u001b[1;33m\u001b[0m\u001b[1;33m\u001b[0m\u001b[0m\n\u001b[1;32m--> 113\u001b[1;33m         \u001b[0mphotoimage\u001b[0m\u001b[1;33m.\u001b[0m\u001b[0mtk\u001b[0m\u001b[1;33m.\u001b[0m\u001b[0mcall\u001b[0m\u001b[1;33m(\u001b[0m\u001b[0m_blit_tcl_name\u001b[0m\u001b[1;33m,\u001b[0m \u001b[0margsid\u001b[0m\u001b[1;33m)\u001b[0m\u001b[1;33m\u001b[0m\u001b[1;33m\u001b[0m\u001b[0m\n\u001b[0m\u001b[0;32m    114\u001b[0m     \u001b[1;32mexcept\u001b[0m \u001b[0mtk\u001b[0m\u001b[1;33m.\u001b[0m\u001b[0mTclError\u001b[0m \u001b[1;32mas\u001b[0m \u001b[0me\u001b[0m\u001b[1;33m:\u001b[0m\u001b[1;33m\u001b[0m\u001b[1;33m\u001b[0m\u001b[0m\n",
      "\u001b[1;31mTclError\u001b[0m: invalid command name \"pyimage110\"",
      "\nDuring handling of the above exception, another exception occurred:\n",
      "\u001b[1;31mTclError\u001b[0m                                  Traceback (most recent call last)",
      "\u001b[1;32m~\\AppData\\Local\\Temp\\ipykernel_27976\\3377821642.py\u001b[0m in \u001b[0;36m<module>\u001b[1;34m\u001b[0m\n\u001b[0;32m     21\u001b[0m     \u001b[0mdata_int\u001b[0m \u001b[1;33m=\u001b[0m \u001b[0mnp\u001b[0m\u001b[1;33m.\u001b[0m\u001b[0marray\u001b[0m\u001b[1;33m(\u001b[0m\u001b[0mstruct\u001b[0m\u001b[1;33m.\u001b[0m\u001b[0munpack\u001b[0m\u001b[1;33m(\u001b[0m\u001b[0mstr\u001b[0m\u001b[1;33m(\u001b[0m\u001b[1;36m2\u001b[0m \u001b[1;33m*\u001b[0m \u001b[0mCHUNK\u001b[0m\u001b[1;33m)\u001b[0m \u001b[1;33m+\u001b[0m \u001b[1;34m'B'\u001b[0m\u001b[1;33m,\u001b[0m \u001b[0mdata\u001b[0m\u001b[1;33m)\u001b[0m\u001b[1;33m,\u001b[0m \u001b[0mdtype\u001b[0m\u001b[1;33m=\u001b[0m\u001b[1;34m'b'\u001b[0m\u001b[1;33m)\u001b[0m\u001b[1;33m[\u001b[0m\u001b[1;33m:\u001b[0m\u001b[1;33m:\u001b[0m\u001b[1;36m2\u001b[0m\u001b[1;33m]\u001b[0m \u001b[1;33m+\u001b[0m \u001b[1;36m128\u001b[0m\u001b[1;33m\u001b[0m\u001b[1;33m\u001b[0m\u001b[0m\n\u001b[0;32m     22\u001b[0m     \u001b[0mline\u001b[0m\u001b[1;33m.\u001b[0m\u001b[0mset_ydata\u001b[0m\u001b[1;33m(\u001b[0m\u001b[0mdata_int\u001b[0m\u001b[1;33m)\u001b[0m\u001b[1;33m\u001b[0m\u001b[1;33m\u001b[0m\u001b[0m\n\u001b[1;32m---> 23\u001b[1;33m     \u001b[0mfig\u001b[0m\u001b[1;33m.\u001b[0m\u001b[0mcanvas\u001b[0m\u001b[1;33m.\u001b[0m\u001b[0mdraw\u001b[0m\u001b[1;33m(\u001b[0m\u001b[1;33m)\u001b[0m\u001b[1;33m\u001b[0m\u001b[1;33m\u001b[0m\u001b[0m\n\u001b[0m\u001b[0;32m     24\u001b[0m     \u001b[0mfig\u001b[0m\u001b[1;33m.\u001b[0m\u001b[0mcanvas\u001b[0m\u001b[1;33m.\u001b[0m\u001b[0mflush_events\u001b[0m\u001b[1;33m(\u001b[0m\u001b[1;33m)\u001b[0m\u001b[1;33m\u001b[0m\u001b[1;33m\u001b[0m\u001b[0m\n",
      "\u001b[1;32m~\\AppData\\Local\\Packages\\PythonSoftwareFoundation.Python.3.9_qbz5n2kfra8p0\\LocalCache\\local-packages\\Python39\\site-packages\\matplotlib\\backends\\backend_tkagg.py\u001b[0m in \u001b[0;36mdraw\u001b[1;34m(self)\u001b[0m\n\u001b[0;32m      8\u001b[0m     \u001b[1;32mdef\u001b[0m \u001b[0mdraw\u001b[0m\u001b[1;33m(\u001b[0m\u001b[0mself\u001b[0m\u001b[1;33m)\u001b[0m\u001b[1;33m:\u001b[0m\u001b[1;33m\u001b[0m\u001b[1;33m\u001b[0m\u001b[0m\n\u001b[0;32m      9\u001b[0m         \u001b[0msuper\u001b[0m\u001b[1;33m(\u001b[0m\u001b[1;33m)\u001b[0m\u001b[1;33m.\u001b[0m\u001b[0mdraw\u001b[0m\u001b[1;33m(\u001b[0m\u001b[1;33m)\u001b[0m\u001b[1;33m\u001b[0m\u001b[1;33m\u001b[0m\u001b[0m\n\u001b[1;32m---> 10\u001b[1;33m         \u001b[0mself\u001b[0m\u001b[1;33m.\u001b[0m\u001b[0mblit\u001b[0m\u001b[1;33m(\u001b[0m\u001b[1;33m)\u001b[0m\u001b[1;33m\u001b[0m\u001b[1;33m\u001b[0m\u001b[0m\n\u001b[0m\u001b[0;32m     11\u001b[0m \u001b[1;33m\u001b[0m\u001b[0m\n\u001b[0;32m     12\u001b[0m     \u001b[1;32mdef\u001b[0m \u001b[0mblit\u001b[0m\u001b[1;33m(\u001b[0m\u001b[0mself\u001b[0m\u001b[1;33m,\u001b[0m \u001b[0mbbox\u001b[0m\u001b[1;33m=\u001b[0m\u001b[1;32mNone\u001b[0m\u001b[1;33m)\u001b[0m\u001b[1;33m:\u001b[0m\u001b[1;33m\u001b[0m\u001b[1;33m\u001b[0m\u001b[0m\n",
      "\u001b[1;32m~\\AppData\\Local\\Packages\\PythonSoftwareFoundation.Python.3.9_qbz5n2kfra8p0\\LocalCache\\local-packages\\Python39\\site-packages\\matplotlib\\backends\\backend_tkagg.py\u001b[0m in \u001b[0;36mblit\u001b[1;34m(self, bbox)\u001b[0m\n\u001b[0;32m     11\u001b[0m \u001b[1;33m\u001b[0m\u001b[0m\n\u001b[0;32m     12\u001b[0m     \u001b[1;32mdef\u001b[0m \u001b[0mblit\u001b[0m\u001b[1;33m(\u001b[0m\u001b[0mself\u001b[0m\u001b[1;33m,\u001b[0m \u001b[0mbbox\u001b[0m\u001b[1;33m=\u001b[0m\u001b[1;32mNone\u001b[0m\u001b[1;33m)\u001b[0m\u001b[1;33m:\u001b[0m\u001b[1;33m\u001b[0m\u001b[1;33m\u001b[0m\u001b[0m\n\u001b[1;32m---> 13\u001b[1;33m         _backend_tk.blit(self._tkphoto, self.renderer.buffer_rgba(),\n\u001b[0m\u001b[0;32m     14\u001b[0m                          (0, 1, 2, 3), bbox=bbox)\n\u001b[0;32m     15\u001b[0m \u001b[1;33m\u001b[0m\u001b[0m\n",
      "\u001b[1;32m~\\AppData\\Local\\Packages\\PythonSoftwareFoundation.Python.3.9_qbz5n2kfra8p0\\LocalCache\\local-packages\\Python39\\site-packages\\matplotlib\\backends\\_backend_tk.py\u001b[0m in \u001b[0;36mblit\u001b[1;34m(photoimage, aggimage, offsets, bbox)\u001b[0m\n\u001b[0;32m    116\u001b[0m             \u001b[1;32mraise\u001b[0m\u001b[1;33m\u001b[0m\u001b[1;33m\u001b[0m\u001b[0m\n\u001b[0;32m    117\u001b[0m         \u001b[0mphotoimage\u001b[0m\u001b[1;33m.\u001b[0m\u001b[0mtk\u001b[0m\u001b[1;33m.\u001b[0m\u001b[0mcreatecommand\u001b[0m\u001b[1;33m(\u001b[0m\u001b[0m_blit_tcl_name\u001b[0m\u001b[1;33m,\u001b[0m \u001b[0m_blit\u001b[0m\u001b[1;33m)\u001b[0m\u001b[1;33m\u001b[0m\u001b[1;33m\u001b[0m\u001b[0m\n\u001b[1;32m--> 118\u001b[1;33m         \u001b[0mphotoimage\u001b[0m\u001b[1;33m.\u001b[0m\u001b[0mtk\u001b[0m\u001b[1;33m.\u001b[0m\u001b[0mcall\u001b[0m\u001b[1;33m(\u001b[0m\u001b[0m_blit_tcl_name\u001b[0m\u001b[1;33m,\u001b[0m \u001b[0margsid\u001b[0m\u001b[1;33m)\u001b[0m\u001b[1;33m\u001b[0m\u001b[1;33m\u001b[0m\u001b[0m\n\u001b[0m\u001b[0;32m    119\u001b[0m \u001b[1;33m\u001b[0m\u001b[0m\n\u001b[0;32m    120\u001b[0m \u001b[1;33m\u001b[0m\u001b[0m\n",
      "\u001b[1;31mTclError\u001b[0m: "
     ]
    },
    {
     "ename": "TclError",
     "evalue": "",
     "output_type": "error",
     "traceback": [
      "\u001b[1;31m---------------------------------------------------------------------------\u001b[0m",
      "\u001b[1;31mTclError\u001b[0m                                  Traceback (most recent call last)",
      "\u001b[1;32m~\\AppData\\Local\\Packages\\PythonSoftwareFoundation.Python.3.9_qbz5n2kfra8p0\\LocalCache\\local-packages\\Python39\\site-packages\\matplotlib\\backends\\_backend_tk.py\u001b[0m in \u001b[0;36mblit\u001b[1;34m(photoimage, aggimage, offsets, bbox)\u001b[0m\n\u001b[0;32m    112\u001b[0m     \u001b[1;32mtry\u001b[0m\u001b[1;33m:\u001b[0m\u001b[1;33m\u001b[0m\u001b[1;33m\u001b[0m\u001b[0m\n\u001b[1;32m--> 113\u001b[1;33m         \u001b[0mphotoimage\u001b[0m\u001b[1;33m.\u001b[0m\u001b[0mtk\u001b[0m\u001b[1;33m.\u001b[0m\u001b[0mcall\u001b[0m\u001b[1;33m(\u001b[0m\u001b[0m_blit_tcl_name\u001b[0m\u001b[1;33m,\u001b[0m \u001b[0margsid\u001b[0m\u001b[1;33m)\u001b[0m\u001b[1;33m\u001b[0m\u001b[1;33m\u001b[0m\u001b[0m\n\u001b[0m\u001b[0;32m    114\u001b[0m     \u001b[1;32mexcept\u001b[0m \u001b[0mtk\u001b[0m\u001b[1;33m.\u001b[0m\u001b[0mTclError\u001b[0m \u001b[1;32mas\u001b[0m \u001b[0me\u001b[0m\u001b[1;33m:\u001b[0m\u001b[1;33m\u001b[0m\u001b[1;33m\u001b[0m\u001b[0m\n",
      "\u001b[1;31mTclError\u001b[0m: invalid command name \"pyimage110\"",
      "\nDuring handling of the above exception, another exception occurred:\n",
      "\u001b[1;31mTclError\u001b[0m                                  Traceback (most recent call last)",
      "\u001b[1;32m~\\AppData\\Local\\Temp\\ipykernel_27976\\3377821642.py\u001b[0m in \u001b[0;36m<module>\u001b[1;34m\u001b[0m\n\u001b[0;32m     21\u001b[0m     \u001b[0mdata_int\u001b[0m \u001b[1;33m=\u001b[0m \u001b[0mnp\u001b[0m\u001b[1;33m.\u001b[0m\u001b[0marray\u001b[0m\u001b[1;33m(\u001b[0m\u001b[0mstruct\u001b[0m\u001b[1;33m.\u001b[0m\u001b[0munpack\u001b[0m\u001b[1;33m(\u001b[0m\u001b[0mstr\u001b[0m\u001b[1;33m(\u001b[0m\u001b[1;36m2\u001b[0m \u001b[1;33m*\u001b[0m \u001b[0mCHUNK\u001b[0m\u001b[1;33m)\u001b[0m \u001b[1;33m+\u001b[0m \u001b[1;34m'B'\u001b[0m\u001b[1;33m,\u001b[0m \u001b[0mdata\u001b[0m\u001b[1;33m)\u001b[0m\u001b[1;33m,\u001b[0m \u001b[0mdtype\u001b[0m\u001b[1;33m=\u001b[0m\u001b[1;34m'b'\u001b[0m\u001b[1;33m)\u001b[0m\u001b[1;33m[\u001b[0m\u001b[1;33m:\u001b[0m\u001b[1;33m:\u001b[0m\u001b[1;36m2\u001b[0m\u001b[1;33m]\u001b[0m \u001b[1;33m+\u001b[0m \u001b[1;36m128\u001b[0m\u001b[1;33m\u001b[0m\u001b[1;33m\u001b[0m\u001b[0m\n\u001b[0;32m     22\u001b[0m     \u001b[0mline\u001b[0m\u001b[1;33m.\u001b[0m\u001b[0mset_ydata\u001b[0m\u001b[1;33m(\u001b[0m\u001b[0mdata_int\u001b[0m\u001b[1;33m)\u001b[0m\u001b[1;33m\u001b[0m\u001b[1;33m\u001b[0m\u001b[0m\n\u001b[1;32m---> 23\u001b[1;33m     \u001b[0mfig\u001b[0m\u001b[1;33m.\u001b[0m\u001b[0mcanvas\u001b[0m\u001b[1;33m.\u001b[0m\u001b[0mdraw\u001b[0m\u001b[1;33m(\u001b[0m\u001b[1;33m)\u001b[0m\u001b[1;33m\u001b[0m\u001b[1;33m\u001b[0m\u001b[0m\n\u001b[0m\u001b[0;32m     24\u001b[0m     \u001b[0mfig\u001b[0m\u001b[1;33m.\u001b[0m\u001b[0mcanvas\u001b[0m\u001b[1;33m.\u001b[0m\u001b[0mflush_events\u001b[0m\u001b[1;33m(\u001b[0m\u001b[1;33m)\u001b[0m\u001b[1;33m\u001b[0m\u001b[1;33m\u001b[0m\u001b[0m\n",
      "\u001b[1;32m~\\AppData\\Local\\Packages\\PythonSoftwareFoundation.Python.3.9_qbz5n2kfra8p0\\LocalCache\\local-packages\\Python39\\site-packages\\matplotlib\\backends\\backend_tkagg.py\u001b[0m in \u001b[0;36mdraw\u001b[1;34m(self)\u001b[0m\n\u001b[0;32m      8\u001b[0m     \u001b[1;32mdef\u001b[0m \u001b[0mdraw\u001b[0m\u001b[1;33m(\u001b[0m\u001b[0mself\u001b[0m\u001b[1;33m)\u001b[0m\u001b[1;33m:\u001b[0m\u001b[1;33m\u001b[0m\u001b[1;33m\u001b[0m\u001b[0m\n\u001b[0;32m      9\u001b[0m         \u001b[0msuper\u001b[0m\u001b[1;33m(\u001b[0m\u001b[1;33m)\u001b[0m\u001b[1;33m.\u001b[0m\u001b[0mdraw\u001b[0m\u001b[1;33m(\u001b[0m\u001b[1;33m)\u001b[0m\u001b[1;33m\u001b[0m\u001b[1;33m\u001b[0m\u001b[0m\n\u001b[1;32m---> 10\u001b[1;33m         \u001b[0mself\u001b[0m\u001b[1;33m.\u001b[0m\u001b[0mblit\u001b[0m\u001b[1;33m(\u001b[0m\u001b[1;33m)\u001b[0m\u001b[1;33m\u001b[0m\u001b[1;33m\u001b[0m\u001b[0m\n\u001b[0m\u001b[0;32m     11\u001b[0m \u001b[1;33m\u001b[0m\u001b[0m\n\u001b[0;32m     12\u001b[0m     \u001b[1;32mdef\u001b[0m \u001b[0mblit\u001b[0m\u001b[1;33m(\u001b[0m\u001b[0mself\u001b[0m\u001b[1;33m,\u001b[0m \u001b[0mbbox\u001b[0m\u001b[1;33m=\u001b[0m\u001b[1;32mNone\u001b[0m\u001b[1;33m)\u001b[0m\u001b[1;33m:\u001b[0m\u001b[1;33m\u001b[0m\u001b[1;33m\u001b[0m\u001b[0m\n",
      "\u001b[1;32m~\\AppData\\Local\\Packages\\PythonSoftwareFoundation.Python.3.9_qbz5n2kfra8p0\\LocalCache\\local-packages\\Python39\\site-packages\\matplotlib\\backends\\backend_tkagg.py\u001b[0m in \u001b[0;36mblit\u001b[1;34m(self, bbox)\u001b[0m\n\u001b[0;32m     11\u001b[0m \u001b[1;33m\u001b[0m\u001b[0m\n\u001b[0;32m     12\u001b[0m     \u001b[1;32mdef\u001b[0m \u001b[0mblit\u001b[0m\u001b[1;33m(\u001b[0m\u001b[0mself\u001b[0m\u001b[1;33m,\u001b[0m \u001b[0mbbox\u001b[0m\u001b[1;33m=\u001b[0m\u001b[1;32mNone\u001b[0m\u001b[1;33m)\u001b[0m\u001b[1;33m:\u001b[0m\u001b[1;33m\u001b[0m\u001b[1;33m\u001b[0m\u001b[0m\n\u001b[1;32m---> 13\u001b[1;33m         _backend_tk.blit(self._tkphoto, self.renderer.buffer_rgba(),\n\u001b[0m\u001b[0;32m     14\u001b[0m                          (0, 1, 2, 3), bbox=bbox)\n\u001b[0;32m     15\u001b[0m \u001b[1;33m\u001b[0m\u001b[0m\n",
      "\u001b[1;32m~\\AppData\\Local\\Packages\\PythonSoftwareFoundation.Python.3.9_qbz5n2kfra8p0\\LocalCache\\local-packages\\Python39\\site-packages\\matplotlib\\backends\\_backend_tk.py\u001b[0m in \u001b[0;36mblit\u001b[1;34m(photoimage, aggimage, offsets, bbox)\u001b[0m\n\u001b[0;32m    116\u001b[0m             \u001b[1;32mraise\u001b[0m\u001b[1;33m\u001b[0m\u001b[1;33m\u001b[0m\u001b[0m\n\u001b[0;32m    117\u001b[0m         \u001b[0mphotoimage\u001b[0m\u001b[1;33m.\u001b[0m\u001b[0mtk\u001b[0m\u001b[1;33m.\u001b[0m\u001b[0mcreatecommand\u001b[0m\u001b[1;33m(\u001b[0m\u001b[0m_blit_tcl_name\u001b[0m\u001b[1;33m,\u001b[0m \u001b[0m_blit\u001b[0m\u001b[1;33m)\u001b[0m\u001b[1;33m\u001b[0m\u001b[1;33m\u001b[0m\u001b[0m\n\u001b[1;32m--> 118\u001b[1;33m         \u001b[0mphotoimage\u001b[0m\u001b[1;33m.\u001b[0m\u001b[0mtk\u001b[0m\u001b[1;33m.\u001b[0m\u001b[0mcall\u001b[0m\u001b[1;33m(\u001b[0m\u001b[0m_blit_tcl_name\u001b[0m\u001b[1;33m,\u001b[0m \u001b[0margsid\u001b[0m\u001b[1;33m)\u001b[0m\u001b[1;33m\u001b[0m\u001b[1;33m\u001b[0m\u001b[0m\n\u001b[0m\u001b[0;32m    119\u001b[0m \u001b[1;33m\u001b[0m\u001b[0m\n\u001b[0;32m    120\u001b[0m \u001b[1;33m\u001b[0m\u001b[0m\n",
      "\u001b[1;31mTclError\u001b[0m: "
     ]
    }
   ],
   "source": [
    "p = pyaudio.PyAudio()\n",
    "\n",
    "stream = p.open(\n",
    "    format=FORMAT,\n",
    "    channels=CHANNELS,\n",
    "    rate=RATE,\n",
    "    input=True,\n",
    "    output=True,\n",
    "    frames_per_buffer=CHUNK\n",
    ")\n",
    "\n",
    "fig, ax = plt.subplots()\n",
    "\n",
    "x = np.arange(0, 2 * CHUNK, 2)\n",
    "line, = ax.plot(x, np.random.rand(CHUNK))\n",
    "ax.set_ylim(0,255)\n",
    "ax.set_xlim(0,CHUNK)\n",
    "\n",
    "while True:\n",
    "    data = stream.read(CHUNK)\n",
    "    data_int = np.array(struct.unpack(str(2 * CHUNK) + 'B', data), dtype='b')[::2] + 128\n",
    "    line.set_ydata(data_int)\n",
    "    fig.canvas.draw()\n",
    "    fig.canvas.flush_events()"
   ]
  },
  {
   "cell_type": "code",
   "execution_count": 14,
   "id": "f19bbc7b",
   "metadata": {
    "scrolled": true
   },
   "outputs": [
    {
     "name": "stdout",
     "output_type": "stream",
     "text": [
      "Requirement already satisfied: sounddevice in c:\\users\\käyttäjä\\appdata\\local\\packages\\pythonsoftwarefoundation.python.3.9_qbz5n2kfra8p0\\localcache\\local-packages\\python39\\site-packages (0.4.6)\n",
      "Requirement already satisfied: CFFI>=1.0 in c:\\users\\käyttäjä\\appdata\\local\\packages\\pythonsoftwarefoundation.python.3.9_qbz5n2kfra8p0\\localcache\\local-packages\\python39\\site-packages (from sounddevice) (1.14.6)\n",
      "Requirement already satisfied: pycparser in c:\\users\\käyttäjä\\appdata\\local\\packages\\pythonsoftwarefoundation.python.3.9_qbz5n2kfra8p0\\localcache\\local-packages\\python39\\site-packages (from CFFI>=1.0->sounddevice) (2.20)\n"
     ]
    }
   ],
   "source": [
    "!pip install sounddevice\n",
    "\n",
    "import sounddevice as sd\n"
   ]
  },
  {
   "cell_type": "code",
   "execution_count": 20,
   "id": "93bfc401",
   "metadata": {
    "scrolled": false
   },
   "outputs": [
    {
     "data": {
      "text/plain": [
       "   0 Microsoft Sound Mapper - Input, MME (2 in, 0 out)\n",
       ">  1 Microphone (Trust USB Microphon, MME (2 in, 0 out)\n",
       "   2 VoiceMeeter Output (VB-Audio Vo, MME (2 in, 0 out)\n",
       "   3 CABLE Output (VB-Audio Virtual , MME (2 in, 0 out)\n",
       "   4 Microsoft Sound Mapper - Output, MME (0 in, 2 out)\n",
       "<  5 VoiceMeeter Input (VB-Audio Voi, MME (0 in, 2 out)\n",
       "   6 Realtek HD Audio 2nd output (Re, MME (0 in, 2 out)\n",
       "   7 Acer B246HYL (NVIDIA High Defin, MME (0 in, 2 out)\n",
       "   8 CABLE Input (VB-Audio Virtual C, MME (0 in, 2 out)\n",
       "   9 Speakers (Realtek(R) Audio), MME (0 in, 2 out)\n",
       "  10 Primary Sound Capture Driver, Windows DirectSound (2 in, 0 out)\n",
       "  11 Microphone (Trust USB Microphone), Windows DirectSound (2 in, 0 out)\n",
       "  12 VoiceMeeter Output (VB-Audio VoiceMeeter VAIO), Windows DirectSound (2 in, 0 out)\n",
       "  13 CABLE Output (VB-Audio Virtual Cable), Windows DirectSound (2 in, 0 out)\n",
       "  14 Primary Sound Driver, Windows DirectSound (0 in, 2 out)\n",
       "  15 VoiceMeeter Input (VB-Audio VoiceMeeter VAIO), Windows DirectSound (0 in, 2 out)\n",
       "  16 Realtek HD Audio 2nd output (Realtek(R) Audio), Windows DirectSound (0 in, 2 out)\n",
       "  17 Acer B246HYL (NVIDIA High Definition Audio), Windows DirectSound (0 in, 2 out)\n",
       "  18 CABLE Input (VB-Audio Virtual Cable), Windows DirectSound (0 in, 2 out)\n",
       "  19 Speakers (Realtek(R) Audio), Windows DirectSound (0 in, 4 out)\n",
       "  20 Voicemeeter Virtual ASIO, ASIO (8 in, 8 out)\n",
       "  21 Realtek HD Audio 2nd output (Realtek(R) Audio), Windows WASAPI (0 in, 2 out)\n",
       "  22 Acer B246HYL (NVIDIA High Definition Audio), Windows WASAPI (0 in, 2 out)\n",
       "  23 VoiceMeeter Input (VB-Audio VoiceMeeter VAIO), Windows WASAPI (0 in, 2 out)\n",
       "  24 CABLE Input (VB-Audio Virtual Cable), Windows WASAPI (0 in, 2 out)\n",
       "  25 Speakers (Realtek(R) Audio), Windows WASAPI (0 in, 4 out)\n",
       "  26 VoiceMeeter Output (VB-Audio VoiceMeeter VAIO), Windows WASAPI (2 in, 0 out)\n",
       "  27 Microphone (Trust USB Microphone), Windows WASAPI (1 in, 0 out)\n",
       "  28 CABLE Output (VB-Audio Virtual Cable), Windows WASAPI (2 in, 0 out)\n",
       "  29 Mikrofoni (Trust USB Microphone), Windows WDM-KS (1 in, 0 out)\n",
       "  30 VoiceMeeter Output (VoiceMeeter vaio), Windows WDM-KS (8 in, 0 out)\n",
       "  31 Speakers (VoiceMeeter vaio), Windows WDM-KS (0 in, 8 out)\n",
       "  32 Output (NVIDIA High Definition Audio), Windows WDM-KS (0 in, 2 out)\n",
       "  33 Speakers (Realtek HDA Primary output), Windows WDM-KS (0 in, 4 out)\n",
       "  34 Stereo Mix (Realtek HD Audio Stereo input), Windows WDM-KS (2 in, 0 out)\n",
       "  35 Mikrofoni (Realtek HD Audio Mic input), Windows WDM-KS (2 in, 0 out)\n",
       "  36 Headphones (Realtek HD Audio 2nd output), Windows WDM-KS (0 in, 2 out)\n",
       "  37 CABLE Output (VB-Audio Point), Windows WDM-KS (8 in, 0 out)\n",
       "  38 Speakers (VB-Audio Point), Windows WDM-KS (0 in, 8 out)\n",
       "  39 Kuulokkeet ja mikrofoni (@System32\\drivers\\bthhfenum.sys,#2;%1 Hands-Free AG Audio%0\n",
       ";(HD 450BT)), Windows WDM-KS (0 in, 1 out)\n",
       "  40 Kuulokkeet ja mikrofoni (@System32\\drivers\\bthhfenum.sys,#2;%1 Hands-Free AG Audio%0\n",
       ";(HD 450BT)), Windows WDM-KS (1 in, 0 out)"
      ]
     },
     "execution_count": 20,
     "metadata": {},
     "output_type": "execute_result"
    }
   ],
   "source": [
    "sd.query_devices()"
   ]
  },
  {
   "cell_type": "code",
   "execution_count": 27,
   "id": "f12113c5",
   "metadata": {
    "scrolled": true
   },
   "outputs": [
    {
     "ename": "TclError",
     "evalue": "",
     "output_type": "error",
     "traceback": [
      "\u001b[1;31m---------------------------------------------------------------------------\u001b[0m",
      "\u001b[1;31mTclError\u001b[0m                                  Traceback (most recent call last)",
      "\u001b[1;32m~\\AppData\\Local\\Packages\\PythonSoftwareFoundation.Python.3.9_qbz5n2kfra8p0\\LocalCache\\local-packages\\Python39\\site-packages\\matplotlib\\backends\\_backend_tk.py\u001b[0m in \u001b[0;36mblit\u001b[1;34m(photoimage, aggimage, offsets, bbox)\u001b[0m\n\u001b[0;32m    112\u001b[0m     \u001b[1;32mtry\u001b[0m\u001b[1;33m:\u001b[0m\u001b[1;33m\u001b[0m\u001b[1;33m\u001b[0m\u001b[0m\n\u001b[1;32m--> 113\u001b[1;33m         \u001b[0mphotoimage\u001b[0m\u001b[1;33m.\u001b[0m\u001b[0mtk\u001b[0m\u001b[1;33m.\u001b[0m\u001b[0mcall\u001b[0m\u001b[1;33m(\u001b[0m\u001b[0m_blit_tcl_name\u001b[0m\u001b[1;33m,\u001b[0m \u001b[0margsid\u001b[0m\u001b[1;33m)\u001b[0m\u001b[1;33m\u001b[0m\u001b[1;33m\u001b[0m\u001b[0m\n\u001b[0m\u001b[0;32m    114\u001b[0m     \u001b[1;32mexcept\u001b[0m \u001b[0mtk\u001b[0m\u001b[1;33m.\u001b[0m\u001b[0mTclError\u001b[0m \u001b[1;32mas\u001b[0m \u001b[0me\u001b[0m\u001b[1;33m:\u001b[0m\u001b[1;33m\u001b[0m\u001b[1;33m\u001b[0m\u001b[0m\n",
      "\u001b[1;31mTclError\u001b[0m: invalid command name \"pyimage120\"",
      "\nDuring handling of the above exception, another exception occurred:\n",
      "\u001b[1;31mTclError\u001b[0m                                  Traceback (most recent call last)",
      "\u001b[1;32m~\\AppData\\Local\\Temp\\ipykernel_31216\\3955920633.py\u001b[0m in \u001b[0;36m<module>\u001b[1;34m\u001b[0m\n\u001b[0;32m     22\u001b[0m     \u001b[0mdata_int\u001b[0m \u001b[1;33m=\u001b[0m \u001b[0mnp\u001b[0m\u001b[1;33m.\u001b[0m\u001b[0marray\u001b[0m\u001b[1;33m(\u001b[0m\u001b[0mstruct\u001b[0m\u001b[1;33m.\u001b[0m\u001b[0munpack\u001b[0m\u001b[1;33m(\u001b[0m\u001b[0mstr\u001b[0m\u001b[1;33m(\u001b[0m\u001b[1;36m2\u001b[0m \u001b[1;33m*\u001b[0m \u001b[0mCHUNK\u001b[0m\u001b[1;33m)\u001b[0m \u001b[1;33m+\u001b[0m \u001b[1;34m'B'\u001b[0m\u001b[1;33m,\u001b[0m \u001b[0mdata\u001b[0m\u001b[1;33m)\u001b[0m\u001b[1;33m,\u001b[0m \u001b[0mdtype\u001b[0m\u001b[1;33m=\u001b[0m\u001b[1;34m'b'\u001b[0m\u001b[1;33m)\u001b[0m\u001b[1;33m[\u001b[0m\u001b[1;33m:\u001b[0m\u001b[1;33m:\u001b[0m\u001b[1;36m2\u001b[0m\u001b[1;33m]\u001b[0m \u001b[1;33m+\u001b[0m \u001b[1;36m128\u001b[0m\u001b[1;33m\u001b[0m\u001b[1;33m\u001b[0m\u001b[0m\n\u001b[0;32m     23\u001b[0m     \u001b[0mline\u001b[0m\u001b[1;33m.\u001b[0m\u001b[0mset_ydata\u001b[0m\u001b[1;33m(\u001b[0m\u001b[0mdata_int\u001b[0m\u001b[1;33m)\u001b[0m\u001b[1;33m\u001b[0m\u001b[1;33m\u001b[0m\u001b[0m\n\u001b[1;32m---> 24\u001b[1;33m     \u001b[0mfig\u001b[0m\u001b[1;33m.\u001b[0m\u001b[0mcanvas\u001b[0m\u001b[1;33m.\u001b[0m\u001b[0mdraw\u001b[0m\u001b[1;33m(\u001b[0m\u001b[1;33m)\u001b[0m\u001b[1;33m\u001b[0m\u001b[1;33m\u001b[0m\u001b[0m\n\u001b[0m\u001b[0;32m     25\u001b[0m     \u001b[0mfig\u001b[0m\u001b[1;33m.\u001b[0m\u001b[0mcanvas\u001b[0m\u001b[1;33m.\u001b[0m\u001b[0mflush_events\u001b[0m\u001b[1;33m(\u001b[0m\u001b[1;33m)\u001b[0m\u001b[1;33m\u001b[0m\u001b[1;33m\u001b[0m\u001b[0m\n",
      "\u001b[1;32m~\\AppData\\Local\\Packages\\PythonSoftwareFoundation.Python.3.9_qbz5n2kfra8p0\\LocalCache\\local-packages\\Python39\\site-packages\\matplotlib\\backends\\backend_tkagg.py\u001b[0m in \u001b[0;36mdraw\u001b[1;34m(self)\u001b[0m\n\u001b[0;32m      8\u001b[0m     \u001b[1;32mdef\u001b[0m \u001b[0mdraw\u001b[0m\u001b[1;33m(\u001b[0m\u001b[0mself\u001b[0m\u001b[1;33m)\u001b[0m\u001b[1;33m:\u001b[0m\u001b[1;33m\u001b[0m\u001b[1;33m\u001b[0m\u001b[0m\n\u001b[0;32m      9\u001b[0m         \u001b[0msuper\u001b[0m\u001b[1;33m(\u001b[0m\u001b[1;33m)\u001b[0m\u001b[1;33m.\u001b[0m\u001b[0mdraw\u001b[0m\u001b[1;33m(\u001b[0m\u001b[1;33m)\u001b[0m\u001b[1;33m\u001b[0m\u001b[1;33m\u001b[0m\u001b[0m\n\u001b[1;32m---> 10\u001b[1;33m         \u001b[0mself\u001b[0m\u001b[1;33m.\u001b[0m\u001b[0mblit\u001b[0m\u001b[1;33m(\u001b[0m\u001b[1;33m)\u001b[0m\u001b[1;33m\u001b[0m\u001b[1;33m\u001b[0m\u001b[0m\n\u001b[0m\u001b[0;32m     11\u001b[0m \u001b[1;33m\u001b[0m\u001b[0m\n\u001b[0;32m     12\u001b[0m     \u001b[1;32mdef\u001b[0m \u001b[0mblit\u001b[0m\u001b[1;33m(\u001b[0m\u001b[0mself\u001b[0m\u001b[1;33m,\u001b[0m \u001b[0mbbox\u001b[0m\u001b[1;33m=\u001b[0m\u001b[1;32mNone\u001b[0m\u001b[1;33m)\u001b[0m\u001b[1;33m:\u001b[0m\u001b[1;33m\u001b[0m\u001b[1;33m\u001b[0m\u001b[0m\n",
      "\u001b[1;32m~\\AppData\\Local\\Packages\\PythonSoftwareFoundation.Python.3.9_qbz5n2kfra8p0\\LocalCache\\local-packages\\Python39\\site-packages\\matplotlib\\backends\\backend_tkagg.py\u001b[0m in \u001b[0;36mblit\u001b[1;34m(self, bbox)\u001b[0m\n\u001b[0;32m     11\u001b[0m \u001b[1;33m\u001b[0m\u001b[0m\n\u001b[0;32m     12\u001b[0m     \u001b[1;32mdef\u001b[0m \u001b[0mblit\u001b[0m\u001b[1;33m(\u001b[0m\u001b[0mself\u001b[0m\u001b[1;33m,\u001b[0m \u001b[0mbbox\u001b[0m\u001b[1;33m=\u001b[0m\u001b[1;32mNone\u001b[0m\u001b[1;33m)\u001b[0m\u001b[1;33m:\u001b[0m\u001b[1;33m\u001b[0m\u001b[1;33m\u001b[0m\u001b[0m\n\u001b[1;32m---> 13\u001b[1;33m         _backend_tk.blit(self._tkphoto, self.renderer.buffer_rgba(),\n\u001b[0m\u001b[0;32m     14\u001b[0m                          (0, 1, 2, 3), bbox=bbox)\n\u001b[0;32m     15\u001b[0m \u001b[1;33m\u001b[0m\u001b[0m\n",
      "\u001b[1;32m~\\AppData\\Local\\Packages\\PythonSoftwareFoundation.Python.3.9_qbz5n2kfra8p0\\LocalCache\\local-packages\\Python39\\site-packages\\matplotlib\\backends\\_backend_tk.py\u001b[0m in \u001b[0;36mblit\u001b[1;34m(photoimage, aggimage, offsets, bbox)\u001b[0m\n\u001b[0;32m    116\u001b[0m             \u001b[1;32mraise\u001b[0m\u001b[1;33m\u001b[0m\u001b[1;33m\u001b[0m\u001b[0m\n\u001b[0;32m    117\u001b[0m         \u001b[0mphotoimage\u001b[0m\u001b[1;33m.\u001b[0m\u001b[0mtk\u001b[0m\u001b[1;33m.\u001b[0m\u001b[0mcreatecommand\u001b[0m\u001b[1;33m(\u001b[0m\u001b[0m_blit_tcl_name\u001b[0m\u001b[1;33m,\u001b[0m \u001b[0m_blit\u001b[0m\u001b[1;33m)\u001b[0m\u001b[1;33m\u001b[0m\u001b[1;33m\u001b[0m\u001b[0m\n\u001b[1;32m--> 118\u001b[1;33m         \u001b[0mphotoimage\u001b[0m\u001b[1;33m.\u001b[0m\u001b[0mtk\u001b[0m\u001b[1;33m.\u001b[0m\u001b[0mcall\u001b[0m\u001b[1;33m(\u001b[0m\u001b[0m_blit_tcl_name\u001b[0m\u001b[1;33m,\u001b[0m \u001b[0margsid\u001b[0m\u001b[1;33m)\u001b[0m\u001b[1;33m\u001b[0m\u001b[1;33m\u001b[0m\u001b[0m\n\u001b[0m\u001b[0;32m    119\u001b[0m \u001b[1;33m\u001b[0m\u001b[0m\n\u001b[0;32m    120\u001b[0m \u001b[1;33m\u001b[0m\u001b[0m\n",
      "\u001b[1;31mTclError\u001b[0m: "
     ]
    }
   ],
   "source": [
    "p = pyaudio.PyAudio()\n",
    "\n",
    "stream = p.open(\n",
    "    format=FORMAT,\n",
    "    channels=CHANNELS,\n",
    "    rate=RATE,\n",
    "    input=True,\n",
    "    output=True,\n",
    "    frames_per_buffer=CHUNK,\n",
    "    input_device_index=2\n",
    ")\n",
    "\n",
    "fig, ax = plt.subplots()\n",
    "\n",
    "x = np.arange(0, 2 * CHUNK, 2)\n",
    "line, = ax.plot(x, np.random.rand(CHUNK))\n",
    "ax.set_ylim(0,255)\n",
    "ax.set_xlim(0,CHUNK * 2)\n",
    "\n",
    "while True:\n",
    "    data = stream.read(CHUNK)\n",
    "    data_int = np.array(struct.unpack(str(2 * CHUNK) + 'B', data), dtype='b')[::2] + 128\n",
    "    line.set_ydata(data_int)\n",
    "    fig.canvas.draw()\n",
    "    fig.canvas.flush_events()"
   ]
  },
  {
   "cell_type": "code",
   "execution_count": 15,
   "id": "4f6cc5aa",
   "metadata": {},
   "outputs": [
    {
     "name": "stdout",
     "output_type": "stream",
     "text": [
      "Chunk 1: 20 Hz - 39 Hz\n",
      "Chunk 2: 39 Hz - 75 Hz\n",
      "Chunk 3: 75 Hz - 146 Hz\n",
      "Chunk 4: 146 Hz - 283 Hz\n",
      "Chunk 5: 283 Hz - 548 Hz\n",
      "Chunk 6: 548 Hz - 1064 Hz\n",
      "Chunk 7: 1064 Hz - 2063 Hz\n",
      "Chunk 8: 2063 Hz - 4000 Hz\n"
     ]
    }
   ],
   "source": [
    "import numpy as np\n",
    "\n",
    "def divide_frequency_range_into_chunks(start_freq, end_freq, num_chunks):\n",
    "    frequencies = np.logspace(np.log10(start_freq), np.log10(end_freq), num=num_chunks+1, base=10, endpoint=True)\n",
    "    frequency_chunks = [(round(frequencies[i]), round(frequencies[i+1])) for i in range(num_chunks)]\n",
    "    return frequency_chunks\n",
    "\n",
    "# Define the range and number of chunks\n",
    "start_frequency = 20  # in Hz\n",
    "end_frequency = 4000  # in Hz\n",
    "num_chunks = 8\n",
    "\n",
    "# Divide the frequency range into chunks\n",
    "frequency_chunks = divide_frequency_range_into_chunks(start_frequency, end_frequency, num_chunks)\n",
    "\n",
    "# Print the frequency chunks\n",
    "for i, (start, end) in enumerate(frequency_chunks):\n",
    "    print(f\"Chunk {i+1}: {start} Hz - {end} Hz\")\n"
   ]
  },
  {
   "cell_type": "code",
   "execution_count": 3,
   "id": "2ab0d933",
   "metadata": {},
   "outputs": [],
   "source": [
    "import numpy as np\n",
    "import matplotlib.pyplot as plt\n",
    "\n",
    "def divide_frequency_range_into_chunks(start_freq, end_freq, num_chunks):\n",
    "    frequencies = np.logspace(np.log10(start_freq), np.log10(end_freq), num=num_chunks+1, base=10, endpoint=True)\n",
    "    frequency_chunks = [(frequencies[i], frequencies[i+1]) for i in range(num_chunks)]\n",
    "    return frequency_chunks\n",
    "\n",
    "def simulate_volume_levels(num_chunks):\n",
    "    return np.random.rand(num_chunks)  # Simulating random volume levels\n",
    "\n",
    "def plot_frequency_boxes(frequency_chunks, volume_levels):\n",
    "    num_chunks = len(frequency_chunks)\n",
    "    colors = plt.cm.viridis(volume_levels)  # Use colormap to represent volume levels\n",
    "    \n",
    "    fig, ax = plt.subplots(figsize=(10, 6))\n",
    "    for i, (start, end) in enumerate(frequency_chunks):\n",
    "        ax.add_patch(plt.Rectangle((i, 0), 1, 1, color=colors[i]))\n",
    "    \n",
    "    ax.set_xlim(0, num_chunks)\n",
    "    ax.set_ylim(0, 1)\n",
    "    ax.set_xticks(np.arange(num_chunks) + 0.5)\n",
    "    ax.set_title('Frequency Blocks with Volume Levels')\n",
    "    plt.show()\n",
    "\n",
    "# Step 1: Generate frequency blocks\n",
    "start_frequency = 20  # in Hz\n",
    "end_frequency = 4000  # in Hz\n",
    "num_chunks = 8\n",
    "frequency_chunks = divide_frequency_range_into_chunks(start_frequency, end_frequency, num_chunks)\n",
    "\n",
    "# Step 2: Simulate volume levels\n",
    "volume_levels = simulate_volume_levels(num_chunks)\n",
    "\n",
    "# Step 3 & 4: Plot frequency boxes with volume levels\n",
    "plot_frequency_boxes(frequency_chunks, volume_levels)\n"
   ]
  },
  {
   "cell_type": "code",
   "execution_count": 2,
   "id": "71ccf81b",
   "metadata": {},
   "outputs": [],
   "source": [
    "import numpy as np\n",
    "import sounddevice as sd\n",
    "\n",
    "def divide_frequency_spectrum_into_logarithmic_chunks(spectrum, num_chunks):\n",
    "    frequencies = np.fft.fftfreq(len(spectrum), 1/RATE)\n",
    "    print(len(frequencies))\n",
    "    logspace_frequencies = np.logspace(np.log10(frequencies[1]), np.log10(frequencies[-1]), num=num_chunks+1, base=10)\n",
    "    chunk_indices = np.searchsorted(frequencies, (logspace_frequencies))           \n",
    "    frequency_chunks = [spectrum[chunk_indices[i]:chunk_indices[i+1]] for i in range(num_chunks)]\n",
    "    return frequency_chunks\n",
    "\n",
    "def calculate_loudness(data):\n",
    "    spectrum = np.fft.fft(data)\n",
    "    magnitude = np.abs(spectrum)\n",
    "    \n",
    "    return magnitude\n",
    "\n",
    "def calculate_loudness_of_freq_chunk(freq_chunk):\n",
    "    loudness = [np.mean(chunk) for chunk in frequency_chunks]\n",
    "    return loudness"
   ]
  },
  {
   "cell_type": "code",
   "execution_count": null,
   "id": "d1c286d4",
   "metadata": {},
   "outputs": [],
   "source": [
    "import numpy as np\n",
    "import sounddevice as sd\n",
    "\n",
    "\n",
    "def divide_frequency_range_into_chunks(start_freq, end_freq, num_chunks):\n",
    "    frequencies = np.logspace(np.log10(start_freq), np.log10(end_freq), num=num_chunks, base=10, endpoint=True)\n",
    "    frequency_chunks = [frequencies[i] for i in range(num_chunks)]\n",
    "    return frequency_chunks\n",
    "\n",
    "def divide_frequency_spectrum_into_logarithmic_chunks(spectrum, logspace_frequencies, chunks):\n",
    "    frequencies = np.fft.fftfreq(len(spectrum), 1/RATE)\n",
    "    pos_frequencies = frequencies[:len(frequencies)//2]\n",
    "    chunk_indices = np.searchsorted(pos_frequencies, logspace_frequencies)\n",
    "    frequency_chunks = [spectrum[chunk_indices[i]:chunk_indices[i+1]] for i in range(chunks)]\n",
    "    frequency_chunks.append(spectrum[chunk_indices[chunks]:])\n",
    "    return frequency_chunks\n",
    "\n",
    "def calculate_loudness(data):\n",
    "    spectrum = np.fft.fft(data)\n",
    "    magnitude = np.abs(spectrum)\n",
    "    \n",
    "    return magnitude\n",
    "\n",
    "def calculate_loudness_of_freq_chunk(freq_chunk):\n",
    "    loudness = [np.mean(chunk) for chunk in frequency_chunks if chunk.size > 0]\n",
    "    return loudness\n",
    "\n",
    "p = pyaudio.PyAudio()\n",
    "\n",
    "stream = p.open(\n",
    "    format=FORMAT,\n",
    "    channels=CHANNELS,\n",
    "    rate=RATE,\n",
    "    input=True,\n",
    "    output=True,\n",
    "    frames_per_buffer=CHUNK,\n",
    "    input_device_index=2\n",
    ")\n",
    "\n",
    "num_chunks = 8\n",
    "start_freq = 20\n",
    "end_freq = 4000\n",
    "count = 0\n",
    "\n",
    "divided_freq_chunks = divide_frequency_range_into_chunks(start_freq, end_freq, num_chunks)\n",
    "                         \n",
    "while True:\n",
    "    data = stream.read(CHUNK)\n",
    "    data_array = np.frombuffer(data, dtype=np.int16)\n",
    "    spectrum = calculate_loudness(data_array)\n",
    "\n",
    "    frequency_chunks = divide_frequency_spectrum_into_logarithmic_chunks(spectrum, divided_freq_chunks, num_chunks - 1)\n",
    "    loudness = calculate_loudness_of_freq_chunk(frequency_chunks)\n",
    "    \n",
    "    num_chunks = len(loudness)\n",
    "    normalized_loud = (arr - arr.min()) / (arr.max() - arr.min())\n",
    "    colors = plt.cm.viridis(normalized"
   ]
  },
  {
   "cell_type": "code",
   "execution_count": 2,
   "id": "fedd4af1",
   "metadata": {},
   "outputs": [],
   "source": [
    "import pyaudio\n",
    "import struct\n",
    "import numpy as np\n",
    "import matplotlib.pyplot as plt\n",
    "\n",
    "%matplotlib tk\n",
    "\n",
    "CHUNK = 1024 * 2\n",
    "FORMAT = pyaudio.paInt16\n",
    "CHANNELS = 1\n",
    "RATE = 44100"
   ]
  },
  {
   "cell_type": "code",
   "execution_count": null,
   "id": "684e3c41",
   "metadata": {
    "scrolled": true
   },
   "outputs": [],
   "source": [
    "import numpy as np\n",
    "import sounddevice as sd\n",
    "\n",
    "\n",
    "def divide_frequency_range_into_chunks(start_freq, end_freq, num_chunks):\n",
    "    frequencies = np.logspace(np.log10(start_freq), np.log10(end_freq), num=num_chunks, base=10, endpoint=True)\n",
    "    frequency_chunks = [frequencies[i] for i in range(num_chunks)]\n",
    "    return frequency_chunks\n",
    "\n",
    "def divide_frequency_spectrum_into_logarithmic_chunks(spectrum, logspace_frequencies, chunks):\n",
    "    frequencies = np.fft.fftfreq(len(spectrum), 1/RATE)\n",
    "    pos_frequencies = frequencies[:len(frequencies)//2]\n",
    "    chunk_indices = np.searchsorted(pos_frequencies, logspace_frequencies)\n",
    "    frequency_chunks = [spectrum[chunk_indices[i]:chunk_indices[i+1]] for i in range(chunks)]\n",
    "    frequency_chunks.append(spectrum[chunk_indices[chunks]:])\n",
    "    return frequency_chunks\n",
    "\n",
    "def calculate_loudness(data):\n",
    "    spectrum = np.fft.fft(data)\n",
    "    magnitude = np.abs(spectrum)\n",
    "    \n",
    "    return magnitude\n",
    "\n",
    "def calculate_loudness_of_freq_chunk(freq_chunk):\n",
    "    loudness = [np.mean(chunk) for chunk in frequency_chunks if chunk.size > 0]\n",
    "    return loudness\n",
    "\n",
    "p = pyaudio.PyAudio()\n",
    "\n",
    "stream = p.open(\n",
    "    format=FORMAT,\n",
    "    channels=CHANNELS,\n",
    "    rate=RATE,\n",
    "    input=True,\n",
    "    output=True,\n",
    "    frames_per_buffer=CHUNK,\n",
    "    input_device_index=2\n",
    ")\n",
    "\n",
    "num_chunks = 8\n",
    "start_freq = 20\n",
    "end_freq = 4000\n",
    "count = 0\n",
    "\n",
    "divided_freq_chunks = divide_frequency_range_into_chunks(start_freq, end_freq, num_chunks)\n",
    "fig, ax = plt.subplots(figsize=(10, 6))     \n",
    "\n",
    "while True:\n",
    "    data = stream.read(CHUNK)\n",
    "    data_array = np.frombuffer(data, dtype=np.int16)\n",
    "    spectrum = calculate_loudness(data_array)\n",
    "\n",
    "    frequency_chunks = divide_frequency_spectrum_into_logarithmic_chunks(spectrum, divided_freq_chunks, num_chunks - 1)\n",
    "    loudness = calculate_loudness_of_freq_chunk(frequency_chunks)\n",
    "    \n",
    "    num_chunks = len(loudness)\n",
    "    normalized_loud = (loudness - np.min(loudness)) / (np.max(loudness) - np.min(loudness))\n",
    "    colors = plt.cm.viridis(normalized_loud)  # Use colormap to represent volume levels\n",
    "\n",
    "    ax.clear()\n",
    "    for i, freq in enumerate(frequency_chunks):\n",
    "        ax.add_patch(plt.Rectangle((i, 0), 1, 1, color=colors[i]))\n",
    "    \n",
    "    ax.set_xlim(0, num_chunks)\n",
    "    ax.set_ylim(0, 1)\n",
    "    ax.set_xticks(np.arange(num_chunks) + 0.5)\n",
    "    ax.set_title('Frequency Blocks with Volume Levels')\n",
    "    plt.pause(0.02)\n",
    "\n",
    "\n",
    "    #print(\"Loudness of each frequency chunk:\", loudness)"
   ]
  },
  {
   "cell_type": "code",
   "execution_count": null,
   "id": "596a16c0",
   "metadata": {},
   "outputs": [],
   "source": []
  }
 ],
 "metadata": {
  "kernelspec": {
   "display_name": "Python 3 (ipykernel)",
   "language": "python",
   "name": "python3"
  },
  "language_info": {
   "codemirror_mode": {
    "name": "ipython",
    "version": 3
   },
   "file_extension": ".py",
   "mimetype": "text/x-python",
   "name": "python",
   "nbconvert_exporter": "python",
   "pygments_lexer": "ipython3",
   "version": "3.9.13"
  }
 },
 "nbformat": 4,
 "nbformat_minor": 5
}
